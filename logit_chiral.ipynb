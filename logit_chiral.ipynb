{
  "nbformat": 4,
  "nbformat_minor": 0,
  "metadata": {
    "kernelspec": {
      "display_name": "Python 3",
      "language": "python",
      "name": "python3"
    },
    "language_info": {
      "codemirror_mode": {
        "name": "ipython",
        "version": 3
      },
      "file_extension": ".py",
      "mimetype": "text/x-python",
      "name": "python",
      "nbconvert_exporter": "python",
      "pygments_lexer": "ipython3",
      "version": "3.6.2"
    },
    "colab": {
      "name": "logit_chiral.ipynb",
      "provenance": [],
      "include_colab_link": true
    }
  },
  "cells": [
    {
      "cell_type": "markdown",
      "metadata": {
        "id": "view-in-github",
        "colab_type": "text"
      },
      "source": [
        "<a href=\"https://colab.research.google.com/github/namoshi/chiral/blob/master/logit_chiral.ipynb\" target=\"_parent\"><img src=\"https://colab.research.google.com/assets/colab-badge.svg\" alt=\"Open In Colab\"/></a>"
      ]
    },
    {
      "cell_type": "markdown",
      "metadata": {
        "id": "Yhbl3oOd-nGi",
        "colab_type": "text"
      },
      "source": [
        "Logistic Regression for Chiral/Achiral  (Small Data Set)"
      ]
    },
    {
      "cell_type": "code",
      "metadata": {
        "id": "UgFj3x1n-nGj",
        "colab_type": "code",
        "colab": {
          "base_uri": "https://localhost:8080/",
          "height": 838
        },
        "outputId": "b69f3313-0a52-4790-ba42-c82bfc690603"
      },
      "source": [
        "import numpy as np\n",
        "import pandas as pd\n",
        "from sklearn import linear_model\n",
        "from keras.utils import np_utils\n",
        "\n",
        "# read data from csv file\n",
        "url = 'https://raw.githubusercontent.com/namoshi/chiral/master/chiral.csv'\n",
        "df = pd.read_csv(url, error_bad_lines=False)\n",
        "\n",
        "print(df.head())\n",
        "\n",
        "data = df.values\n",
        "X = data[:,:-1]\n",
        "y = data[:,-1]\n",
        "\n",
        "#print('X=', X)\n",
        "#print('y=', y)\n",
        "\n",
        "# simple logistic regression for the original data\n",
        "logreg = linear_model.LogisticRegression()\n",
        "\n",
        "logreg.fit(X, y)\n",
        "\n",
        "pred = logreg.predict(X)\n",
        "\n",
        "#print('pred=', pred)\n",
        "\n",
        "score = logreg.score(X, y)\n",
        "\n",
        "print('Logistic Regression for the original Data')\n",
        "print('Recognition Rate = ', score)\n",
        "\n",
        "coeffs = logreg.coef_\n",
        "intercept = logreg.intercept_\n",
        "\n",
        "print('Coeffs is ', coeffs)\n",
        "print('Intercept is ', intercept)\n",
        "\n",
        "\n",
        "# Binary representation of the variables\n",
        "a_categorical = np_utils.to_categorical(X[:,0]-1)\n",
        "print(a_categorical)\n",
        "\n",
        "print(np.sum(a_categorical, axis=0))\n",
        "\n",
        "b_categorical = np_utils.to_categorical(X[:,1]-1)\n",
        "\n",
        "print(b_categorical)\n",
        "\n",
        "print(np.sum(b_categorical, axis=0))\n",
        "\n",
        "# concatenate a_categorical and b_categorical\n",
        "abxy = np.c_[a_categorical, b_categorical[:,8:]]\n",
        "#abxy = np.c_[np.c_[a_categorical, b_categorical[:,8:]], X[:,3]/X[:,2]]\n",
        "#abxy = np.c_[np.c_[a_categorical, b_categorical[:,8:]], X[:,2:3]]\n",
        "\n",
        "print(abxy)\n",
        "\n",
        "print(np.sum(abxy, axis=0))\n",
        "\n",
        "# logistic regression for categorical A and B\n",
        "logreg = linear_model.LogisticRegression()\n",
        "\n",
        "logreg.fit(abxy, y)\n",
        "\n",
        "pred = logreg.predict(abxy)\n",
        "\n",
        "#print('pred=', pred)\n",
        "\n",
        "score = logreg.score(abxy, y)\n",
        "\n",
        "print('Logistic Regression for Categorical Data')\n",
        "print('Recognition Rates = ', score)\n",
        "\n",
        "coeffs = logreg.coef_\n",
        "intercept = logreg.intercept_\n",
        "\n",
        "print('Coeffs is ', coeffs)\n",
        "print('Intercept is ', intercept)\n",
        "\n"
      ],
      "execution_count": 5,
      "outputs": [
        {
          "output_type": "stream",
          "text": [
            "    A   Ｂ  ⅹ   ｙ  Chiral\n",
            "0  14  17  2   1       1\n",
            "1  14  16  1   2       1\n",
            "2  16  16  7  10       1\n",
            "3   6  13  1   5       1\n",
            "4  13  16  1   1       1\n",
            "Logistic Regression for the original Data\n",
            "Recognition Rate =  0.5992779783393501\n",
            "Coeffs is  [[ 0.07297842 -0.15218735 -0.0109891   0.06055069]]\n",
            "Intercept is  [1.53140334]\n",
            "[[0. 0. 0. ... 1. 0. 0.]\n",
            " [0. 0. 0. ... 1. 0. 0.]\n",
            " [0. 0. 0. ... 0. 0. 1.]\n",
            " ...\n",
            " [0. 0. 0. ... 0. 0. 0.]\n",
            " [0. 0. 0. ... 0. 0. 0.]\n",
            " [0. 0. 0. ... 0. 0. 0.]]\n",
            "[10. 19.  2. 20. 24. 34. 19. 28. 22. 22. 22. 16. 19. 11.  5.  4.]\n",
            "[[0. 0. 0. ... 0. 0. 1.]\n",
            " [0. 0. 0. ... 0. 1. 0.]\n",
            " [0. 0. 0. ... 0. 1. 0.]\n",
            " ...\n",
            " [0. 0. 0. ... 1. 0. 0.]\n",
            " [0. 0. 0. ... 0. 1. 0.]\n",
            " [0. 0. 0. ... 0. 1. 0.]]\n",
            "[ 1.  0.  0.  0.  0.  1.  1.  0.  4.  7.  2.  3. 29. 59. 51. 81. 38.]\n",
            "[[0. 0. 0. ... 0. 0. 1.]\n",
            " [0. 0. 0. ... 0. 1. 0.]\n",
            " [0. 0. 0. ... 0. 1. 0.]\n",
            " ...\n",
            " [0. 0. 0. ... 1. 0. 0.]\n",
            " [0. 0. 0. ... 0. 1. 0.]\n",
            " [0. 0. 0. ... 0. 1. 0.]]\n",
            "[10. 19.  2. 20. 24. 34. 19. 28. 22. 22. 22. 16. 19. 11.  5.  4.  4.  7.\n",
            "  2.  3. 29. 59. 51. 81. 38.]\n",
            "Logistic Regression for Categorical Data\n",
            "Recognition Rates =  0.6967509025270758\n",
            "Coeffs is  [[ 0.27084457 -0.24409456  0.70948609  0.18647481 -0.56620712 -0.80691279\n",
            "  -1.19548765 -0.3434817  -1.20707683  0.52305654 -0.4619512   0.99129465\n",
            "   0.41577777  0.82145829  0.31138881  0.59734548  0.06969501 -0.33297259\n",
            "  -0.03744164  0.2333077   0.1832776   1.33637008 -1.01164415 -0.59324145\n",
            "  -0.39895601]]\n",
            "Intercept is  [0.35609594]\n"
          ],
          "name": "stdout"
        }
      ]
    },
    {
      "cell_type": "code",
      "metadata": {
        "id": "uuJYibsv-nGs",
        "colab_type": "code",
        "colab": {}
      },
      "source": [
        ""
      ],
      "execution_count": 0,
      "outputs": []
    }
  ]
}