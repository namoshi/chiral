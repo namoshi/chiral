{
 "cells": [
  {
   "cell_type": "code",
   "execution_count": 88,
   "metadata": {},
   "outputs": [],
   "source": [
    "import numpy as np\n",
    "from openpyxl import load_workbook\n",
    "wb = load_workbook('AI_waseda_asahi-Pro_new_v4_onlydata.xlsx')"
   ]
  },
  {
   "cell_type": "code",
   "execution_count": 89,
   "metadata": {},
   "outputs": [
    {
     "name": "stdout",
     "output_type": "stream",
     "text": [
      "['asahi-pro', 'Sohncke groups', 'Chiral groups', 'Achiral', 'Polar', 'Table']\n"
     ]
    }
   ],
   "source": [
    "print(wb.sheetnames)"
   ]
  },
  {
   "cell_type": "code",
   "execution_count": 90,
   "metadata": {},
   "outputs": [],
   "source": [
    "ws = wb['asahi-pro']"
   ]
  },
  {
   "cell_type": "code",
   "execution_count": 91,
   "metadata": {},
   "outputs": [
    {
     "name": "stdout",
     "output_type": "stream",
     "text": [
      "[[2, 1, 0, 1, 0, 1, 0, 0, 0, 0, 1, 0, 0, 0, 1, 0, 0, 0, 0], [2, 3, 1, 2, 0, 1, 0, 0, 0, 0, 1, 0, 0, 0, 0, 0, 0, 0, 1], [2, 4, 1, 3, 0, 0, 0, 1, 0, 0, 1, 0, 0, 0, 0, 0, 0, 0, 0], [1, 1, 7, 1, 0, 1, 0, 0, 0, 0, 1, 0, 0, 0, 2, 0, 0, 0, 0], [1, 4, 2, 1, 0, 0, 1, 0, 0, 0, 1, 0, 0, 0, 0, 0, 0, 0, 0], [2, 1, 3, 1, 0, 1, 0, 0, 0, 0, 1, 0, 0, 0, 0, 0, 0, 0, 1], [1, 2, 2, 2, 0, 1, 0, 0, 0, 0, 1, 0, 0, 0, 0, 0, 0, 0, 0], [2, 2, 0, 2, 0, 1, 0, 0, 0, 0, 1, 0, 0, 0, 1, 0, 0, 0, 1], [1, 3, 0, 2, 1, 0, 0, 1, 0, 0, 1, 0, 0, 0, 0, 0, 0, 0, 0], [2, 2, 0, 2, 0, 1, 0, 0, 0, 0, 1, 0, 0, 0, 0, 0, 0, 0, 0], [2, 1, 2, 3, 0, 1, 0, 0, 0, 0, 1, 0, 0, 0, 0, 0, 0, 0, 1], [1, 1, 2, 3, 0, 1, 0, 0, 0, 0, 1, 0, 0, 0, 0, 0, 0, 0, 0], [1, 3, 2, 2, 1, 0, 0, 1, 1, 0, 1, 0, 0, 0, 0, 0, 0, 0, 0], [2, 4, 0, 1, 0, 0, 0, 0, 0, 0, 1, 0, 0, 0, 0, 0, 1, 1, 1], [1, 4, 0, 1, 1, 1, 0, 0, 0, 0, 1, 0, 0, 0, 0, 0, 0, 0, 0], [2, 2, 1, 3, 0, 0, 0, 1, 0, 0, 0, 0, 1, 0, 0, 0, 0, 0, 0], [2, 2, 0, 2, 0, 1, 0, 0, 0, 0, 1, 0, 0, 0, 0, 0, 0, 0, 1], [2, 1, 0, 0, 2, 0, 0, 1, 0, 0, 1, 0, 0, 0, 2, 0, 0, 0, 0], [2, 1, 2, 0, 2, 0, 0, 1, 0, 0, 1, 1, 0, 0, 0, 1, 0, 1, 1], [2, 1, 2, 3, 2, 0, 0, 1, 0, 0, 1, 1, 0, 0, 0, 0, 0, 1, 0], [2, 0, 2, 0, 1, 0, 0, 1, 0, 0, 1, 1, 0, 0, 1, 0, 0, 0, 0], [2, 4, 0, 0, 4, 0, 1, 0, 0, 0, 2, 0, 0, 0, 0, 0, 0, 1, 0], [2, 0, 2, 2, 4, 0, 0, 0, 1, 0, 1, 1, 0, 0, 1, 0, 0, 1, 0], [2, 0, 2, 0, 2, 0, 0, 1, 0, 0, 1, 0, 0, 0, 0, 1, 0, 1, 0], [1, 1, 0, 0, 0, 0, 0, 1, 0, 0, 0, 0, 0, 0, 3, 0, 0, 0, 1], [2, 3, 1, 1, 0, 0, 0, 0, 0, 0, 0, 0, 0, 0, 0, 0, 1, 0, 0], [2, 3, 1, 1, 0, 0, 0, 0, 0, 0, 0, 0, 0, 0, 0, 0, 1, 0, 1], [2, 3, 1, 1, 0, 0, 0, 0, 0, 0, 0, 0, 0, 0, 0, 0, 1, 0, 0], [2, 1, 2, 2, 1, 1, 0, 0, 0, 0, 0, 0, 0, 0, 0, 0, 0, 0, 0], [1, 2, 1, 1, 1, 0, 1, 1, 1, 0, 0, 1, 0, 0, 1, 0, 0, 0, 0], [1, 1, 1, 1, 1, 0, 0, 1, 1, 0, 0, 1, 0, 0, 4, 0, 0, 0, 0], [2, 2, 2, 2, 0, 0, 0, 2, 0, 0, 0, 0, 0, 0, 0, 0, 0, 0, 0], [2, 1, 1, 1, 0, 1, 0, 0, 0, 0, 1, 0, 0, 0, 0, 0, 0, 0, 0], [1, 2, 1, 1, 0, 1, 0, 0, 0, 0, 1, 0, 0, 0, 0, 0, 0, 0, 0], [2, 1, 3, 1, 0, 0, 0, 0, 0, 1, 0, 0, 1, 1, 0, 0, 0, 0, 0], [1, 2, 3, 3, 0, 0, 1, 0, 0, 0, 1, 2, 0, 0, 0, 0, 0, 0, 1], [1, 1, 2, 1, 0, 1, 0, 1, 0, 0, 0, 0, 0, 0, 0, 0, 0, 0, 0]]\n"
     ]
    }
   ],
   "source": [
    "data_all = []\n",
    "for row in ws.iter_rows(min_row=2, min_col=1, max_col=19, max_row=38,values_only=True):\n",
    "    data_row = []\n",
    "    for cell in row:\n",
    "        data_row.append(cell)\n",
    "#        print(cell)\n",
    "    data_all.append(data_row)\n",
    "#    print('\\n')\n",
    "print(data_all)"
   ]
  },
  {
   "cell_type": "code",
   "execution_count": 92,
   "metadata": {},
   "outputs": [
    {
     "name": "stdout",
     "output_type": "stream",
     "text": [
      "19\n",
      "37\n",
      "1\n"
     ]
    }
   ],
   "source": [
    "print(len(data_all[0]))\n",
    "print(len(data_all))\n",
    "print(data_all[1][2])"
   ]
  },
  {
   "cell_type": "code",
   "execution_count": 93,
   "metadata": {},
   "outputs": [
    {
     "name": "stdout",
     "output_type": "stream",
     "text": [
      "[{1, 2}, {0, 1, 2, 3, 4}, {0, 1, 2, 3, 7}, {0, 1, 2, 3}, {0, 1, 2, 4}, {0, 1}, {0, 1}, {0, 1, 2}, {0, 1}, {0, 1}, {0, 1, 2}, {0, 1, 2}, {0, 1}, {0, 1}, {0, 1, 2, 3, 4}, {0, 1}, {0, 1}, {0, 1}, {0, 1}]\n"
     ]
    }
   ],
   "source": [
    "sets = []\n",
    "all_elements = []\n",
    "for j in range(len(data_all[0])):\n",
    "    elements = []\n",
    "    for i in range(len(data_all)):\n",
    "        elements.append(data_all[i][j])\n",
    "    elements_set = set(elements)\n",
    "    sets.append(elements_set)\n",
    "    all_elements.append(elements)\n",
    "print(sets)"
   ]
  },
  {
   "cell_type": "code",
   "execution_count": 94,
   "metadata": {},
   "outputs": [
    {
     "name": "stdout",
     "output_type": "stream",
     "text": [
      "19\n"
     ]
    }
   ],
   "source": [
    "print(len(sets))"
   ]
  },
  {
   "cell_type": "code",
   "execution_count": 95,
   "metadata": {},
   "outputs": [
    {
     "name": "stdout",
     "output_type": "stream",
     "text": [
      "[[2, 2, 2, 1, 1, 2, 1, 2, 1, 2, 2, 1, 1, 2, 1, 2, 2, 2, 2, 2, 2, 2, 2, 2, 1, 2, 2, 2, 2, 1, 1, 2, 2, 1, 2, 1, 1], [1, 3, 4, 1, 4, 1, 2, 2, 3, 2, 1, 1, 3, 4, 4, 2, 2, 1, 1, 1, 0, 4, 0, 0, 1, 3, 3, 3, 1, 2, 1, 2, 1, 2, 1, 2, 1], [0, 1, 1, 7, 2, 3, 2, 0, 0, 0, 2, 2, 2, 0, 0, 1, 0, 0, 2, 2, 2, 0, 2, 2, 0, 1, 1, 1, 2, 1, 1, 2, 1, 1, 3, 3, 2], [1, 2, 3, 1, 1, 1, 2, 2, 2, 2, 3, 3, 2, 1, 1, 3, 2, 0, 0, 3, 0, 0, 2, 0, 0, 1, 1, 1, 2, 1, 1, 2, 1, 1, 1, 3, 1], [0, 0, 0, 0, 0, 0, 0, 0, 1, 0, 0, 0, 1, 0, 1, 0, 0, 2, 2, 2, 1, 4, 4, 2, 0, 0, 0, 0, 1, 1, 1, 0, 0, 0, 0, 0, 0], [1, 1, 0, 1, 0, 1, 1, 1, 0, 1, 1, 1, 0, 0, 1, 0, 1, 0, 0, 0, 0, 0, 0, 0, 0, 0, 0, 0, 1, 0, 0, 0, 1, 1, 0, 0, 1], [0, 0, 0, 0, 1, 0, 0, 0, 0, 0, 0, 0, 0, 0, 0, 0, 0, 0, 0, 0, 0, 1, 0, 0, 0, 0, 0, 0, 0, 1, 0, 0, 0, 0, 0, 1, 0], [0, 0, 1, 0, 0, 0, 0, 0, 1, 0, 0, 0, 1, 0, 0, 1, 0, 1, 1, 1, 1, 0, 0, 1, 1, 0, 0, 0, 0, 1, 1, 2, 0, 0, 0, 0, 1], [0, 0, 0, 0, 0, 0, 0, 0, 0, 0, 0, 0, 1, 0, 0, 0, 0, 0, 0, 0, 0, 0, 1, 0, 0, 0, 0, 0, 0, 1, 1, 0, 0, 0, 0, 0, 0], [0, 0, 0, 0, 0, 0, 0, 0, 0, 0, 0, 0, 0, 0, 0, 0, 0, 0, 0, 0, 0, 0, 0, 0, 0, 0, 0, 0, 0, 0, 0, 0, 0, 0, 1, 0, 0], [1, 1, 1, 1, 1, 1, 1, 1, 1, 1, 1, 1, 1, 1, 1, 0, 1, 1, 1, 1, 1, 2, 1, 1, 0, 0, 0, 0, 0, 0, 0, 0, 1, 1, 0, 1, 0], [0, 0, 0, 0, 0, 0, 0, 0, 0, 0, 0, 0, 0, 0, 0, 0, 0, 0, 1, 1, 1, 0, 1, 0, 0, 0, 0, 0, 0, 1, 1, 0, 0, 0, 0, 2, 0], [0, 0, 0, 0, 0, 0, 0, 0, 0, 0, 0, 0, 0, 0, 0, 1, 0, 0, 0, 0, 0, 0, 0, 0, 0, 0, 0, 0, 0, 0, 0, 0, 0, 0, 1, 0, 0], [0, 0, 0, 0, 0, 0, 0, 0, 0, 0, 0, 0, 0, 0, 0, 0, 0, 0, 0, 0, 0, 0, 0, 0, 0, 0, 0, 0, 0, 0, 0, 0, 0, 0, 1, 0, 0], [1, 0, 0, 2, 0, 0, 0, 1, 0, 0, 0, 0, 0, 0, 0, 0, 0, 2, 0, 0, 1, 0, 1, 0, 3, 0, 0, 0, 0, 1, 4, 0, 0, 0, 0, 0, 0], [0, 0, 0, 0, 0, 0, 0, 0, 0, 0, 0, 0, 0, 0, 0, 0, 0, 0, 1, 0, 0, 0, 0, 1, 0, 0, 0, 0, 0, 0, 0, 0, 0, 0, 0, 0, 0], [0, 0, 0, 0, 0, 0, 0, 0, 0, 0, 0, 0, 0, 1, 0, 0, 0, 0, 0, 0, 0, 0, 0, 0, 0, 1, 1, 1, 0, 0, 0, 0, 0, 0, 0, 0, 0], [0, 0, 0, 0, 0, 0, 0, 0, 0, 0, 0, 0, 0, 1, 0, 0, 0, 0, 1, 1, 0, 1, 1, 1, 0, 0, 0, 0, 0, 0, 0, 0, 0, 0, 0, 0, 0], [0, 1, 0, 0, 0, 1, 0, 1, 0, 0, 1, 0, 0, 1, 0, 0, 1, 0, 1, 0, 0, 0, 0, 0, 1, 0, 1, 0, 0, 0, 0, 0, 0, 0, 0, 1, 0]]\n"
     ]
    }
   ],
   "source": [
    "#print(data_all)\n",
    "print(all_elements)"
   ]
  },
  {
   "cell_type": "code",
   "execution_count": 96,
   "metadata": {},
   "outputs": [
    {
     "name": "stdout",
     "output_type": "stream",
     "text": [
      "[[1, 2], [0, 1, 2, 3, 4], [0, 1, 2, 3, 7], [0, 1, 2, 3], [0, 1, 2, 4], [0, 1], [0, 1], [0, 1, 2], [0, 1], [0, 1], [0, 1, 2], [0, 1, 2], [0, 1], [0, 1], [0, 1, 2, 3, 4], [0, 1], [0, 1], [0, 1]]\n",
      "[1, 2, 0, 1, 2, 3, 4, 0, 1, 2, 3, 7, 0, 1, 2, 3, 0, 1, 2, 4, 0, 1, 0, 1, 0, 1, 2, 0, 1, 0, 1, 0, 1, 2, 0, 1, 2, 0, 1, 0, 1, 0, 1, 2, 3, 4, 0, 1, 0, 1, 0, 1]\n"
     ]
    }
   ],
   "source": [
    "sets_list = []\n",
    "xlabels = []\n",
    "for j in range(len(sets)-1):\n",
    "    elm_list = list(sets[j])\n",
    "    sets_list.append(elm_list)\n",
    "    xlabels = xlabels + elm_list\n",
    "print(sets_list)\n",
    "print(xlabels)"
   ]
  },
  {
   "cell_type": "code",
   "execution_count": 97,
   "metadata": {},
   "outputs": [
    {
     "name": "stdout",
     "output_type": "stream",
     "text": [
      "19\n",
      "37\n",
      "[3, 4, 6, 8, 11, 12, 14, 24, 29, 30, 33, 35, 36]\n"
     ]
    }
   ],
   "source": [
    "print(len(all_elements))\n",
    "print(len(all_elements[1]))\n",
    "print([i for i, x in enumerate(all_elements[0]) if x == sets_list[0][0]])"
   ]
  },
  {
   "cell_type": "code",
   "execution_count": 98,
   "metadata": {},
   "outputs": [
    {
     "name": "stdout",
     "output_type": "stream",
     "text": [
      "(37, 18)\n",
      "elm_array\n",
      "[[1. 1. 0. 1. 0. 1. 0. 0. 0. 0. 1. 0. 0. 0. 1. 0. 0. 0.]\n",
      " [1. 3. 1. 2. 0. 1. 0. 0. 0. 0. 1. 0. 0. 0. 0. 0. 0. 0.]\n",
      " [1. 4. 1. 3. 0. 0. 0. 1. 0. 0. 1. 0. 0. 0. 0. 0. 0. 0.]\n",
      " [0. 1. 4. 1. 0. 1. 0. 0. 0. 0. 1. 0. 0. 0. 2. 0. 0. 0.]\n",
      " [0. 4. 2. 1. 0. 0. 1. 0. 0. 0. 1. 0. 0. 0. 0. 0. 0. 0.]\n",
      " [1. 1. 3. 1. 0. 1. 0. 0. 0. 0. 1. 0. 0. 0. 0. 0. 0. 0.]\n",
      " [0. 2. 2. 2. 0. 1. 0. 0. 0. 0. 1. 0. 0. 0. 0. 0. 0. 0.]\n",
      " [1. 2. 0. 2. 0. 1. 0. 0. 0. 0. 1. 0. 0. 0. 1. 0. 0. 0.]\n",
      " [0. 3. 0. 2. 1. 0. 0. 1. 0. 0. 1. 0. 0. 0. 0. 0. 0. 0.]\n",
      " [1. 2. 0. 2. 0. 1. 0. 0. 0. 0. 1. 0. 0. 0. 0. 0. 0. 0.]\n",
      " [1. 1. 2. 3. 0. 1. 0. 0. 0. 0. 1. 0. 0. 0. 0. 0. 0. 0.]\n",
      " [0. 1. 2. 3. 0. 1. 0. 0. 0. 0. 1. 0. 0. 0. 0. 0. 0. 0.]\n",
      " [0. 3. 2. 2. 1. 0. 0. 1. 1. 0. 1. 0. 0. 0. 0. 0. 0. 0.]\n",
      " [1. 4. 0. 1. 0. 0. 0. 0. 0. 0. 1. 0. 0. 0. 0. 0. 1. 1.]\n",
      " [0. 4. 0. 1. 1. 1. 0. 0. 0. 0. 1. 0. 0. 0. 0. 0. 0. 0.]\n",
      " [1. 2. 1. 3. 0. 0. 0. 1. 0. 0. 0. 0. 1. 0. 0. 0. 0. 0.]\n",
      " [1. 2. 0. 2. 0. 1. 0. 0. 0. 0. 1. 0. 0. 0. 0. 0. 0. 0.]\n",
      " [1. 1. 0. 0. 2. 0. 0. 1. 0. 0. 1. 0. 0. 0. 2. 0. 0. 0.]\n",
      " [1. 1. 2. 0. 2. 0. 0. 1. 0. 0. 1. 1. 0. 0. 0. 1. 0. 1.]\n",
      " [1. 1. 2. 3. 2. 0. 0. 1. 0. 0. 1. 1. 0. 0. 0. 0. 0. 1.]\n",
      " [1. 0. 2. 0. 1. 0. 0. 1. 0. 0. 1. 1. 0. 0. 1. 0. 0. 0.]\n",
      " [1. 4. 0. 0. 3. 0. 1. 0. 0. 0. 2. 0. 0. 0. 0. 0. 0. 1.]\n",
      " [1. 0. 2. 2. 3. 0. 0. 0. 1. 0. 1. 1. 0. 0. 1. 0. 0. 1.]\n",
      " [1. 0. 2. 0. 2. 0. 0. 1. 0. 0. 1. 0. 0. 0. 0. 1. 0. 1.]\n",
      " [0. 1. 0. 0. 0. 0. 0. 1. 0. 0. 0. 0. 0. 0. 3. 0. 0. 0.]\n",
      " [1. 3. 1. 1. 0. 0. 0. 0. 0. 0. 0. 0. 0. 0. 0. 0. 1. 0.]\n",
      " [1. 3. 1. 1. 0. 0. 0. 0. 0. 0. 0. 0. 0. 0. 0. 0. 1. 0.]\n",
      " [1. 3. 1. 1. 0. 0. 0. 0. 0. 0. 0. 0. 0. 0. 0. 0. 1. 0.]\n",
      " [1. 1. 2. 2. 1. 1. 0. 0. 0. 0. 0. 0. 0. 0. 0. 0. 0. 0.]\n",
      " [0. 2. 1. 1. 1. 0. 1. 1. 1. 0. 0. 1. 0. 0. 1. 0. 0. 0.]\n",
      " [0. 1. 1. 1. 1. 0. 0. 1. 1. 0. 0. 1. 0. 0. 4. 0. 0. 0.]\n",
      " [1. 2. 2. 2. 0. 0. 0. 2. 0. 0. 0. 0. 0. 0. 0. 0. 0. 0.]\n",
      " [1. 1. 1. 1. 0. 1. 0. 0. 0. 0. 1. 0. 0. 0. 0. 0. 0. 0.]\n",
      " [0. 2. 1. 1. 0. 1. 0. 0. 0. 0. 1. 0. 0. 0. 0. 0. 0. 0.]\n",
      " [1. 1. 3. 1. 0. 0. 0. 0. 0. 1. 0. 0. 1. 1. 0. 0. 0. 0.]\n",
      " [0. 2. 3. 3. 0. 0. 1. 0. 0. 0. 1. 2. 0. 0. 0. 0. 0. 0.]\n",
      " [0. 1. 2. 1. 0. 1. 0. 1. 0. 0. 0. 0. 0. 0. 0. 0. 0. 0.]]\n"
     ]
    }
   ],
   "source": [
    "elm_array = np.zeros((len(all_elements[0]),len(sets)-1))\n",
    "print(elm_array.shape)                    \n",
    "#print(elm_array)\n",
    "for j in range(len(sets)-1):\n",
    "    for nelm in range(len(sets_list[j])):\n",
    "        index_list = [i for i, x in enumerate(all_elements[j]) if x == sets_list[j][nelm]]\n",
    "#        print('j=', j, 'nelm=', nelm)\n",
    "#        print(sets_list[j])\n",
    "#        print(all_elements[j])\n",
    "#        print(index_list)\n",
    "        for i in index_list:\n",
    "            elm_array[i][j] = nelm\n",
    "#        if (len(index_list) == 1):\n",
    "#            elm_array[index_list[0]][j] = nelm\n",
    "#        else:\n",
    "#            elm_array[index_list][j] = nelm\n",
    "print('elm_array')\n",
    "print(elm_array)"
   ]
  },
  {
   "cell_type": "code",
   "execution_count": 99,
   "metadata": {},
   "outputs": [
    {
     "name": "stdout",
     "output_type": "stream",
     "text": [
      "[0 1 0 0 0 1 0 1 0 0 1 0 0 1 0 0 1 0 1 0 0 0 0 0 1 0 1 0 0 0 0 0 0 0 0 1 0]\n"
     ]
    }
   ],
   "source": [
    "# chracity (target variable)\n",
    "#print(len(all_elements))\n",
    "y = np.array(all_elements[len(all_elements)-1])\n",
    "\n",
    "print(y)"
   ]
  },
  {
   "cell_type": "code",
   "execution_count": 100,
   "metadata": {},
   "outputs": [],
   "source": [
    "from sklearn import linear_model\n",
    "from keras.utils import np_utils\n",
    "import matplotlib.pyplot as plt"
   ]
  },
  {
   "cell_type": "code",
   "execution_count": 101,
   "metadata": {},
   "outputs": [
    {
     "name": "stdout",
     "output_type": "stream",
     "text": [
      "X\n",
      "(37, 52)\n",
      "[[0. 1. 0. ... 0. 1. 0.]\n",
      " [0. 1. 0. ... 0. 1. 0.]\n",
      " [0. 1. 0. ... 0. 1. 0.]\n",
      " ...\n",
      " [0. 1. 0. ... 0. 1. 0.]\n",
      " [1. 0. 0. ... 0. 1. 0.]\n",
      " [1. 0. 0. ... 0. 1. 0.]]\n"
     ]
    }
   ],
   "source": [
    "#print(elm_array.shape)\n",
    "#print(len(elm_array[0]))\n",
    "for j in range(len(elm_array[0])):\n",
    "#    print(elm_array[:,j])\n",
    "    elm_categorical = np_utils.to_categorical(elm_array[:,j])\n",
    "#    print(elm_categorical)\n",
    "    if (j == 0):\n",
    "        X = np.c_[elm_categorical]\n",
    "    else:\n",
    "        X = np.c_[X, elm_categorical]\n",
    "\n",
    "print('X')\n",
    "print(X.shape)\n",
    "print(X)"
   ]
  },
  {
   "cell_type": "code",
   "execution_count": 102,
   "metadata": {},
   "outputs": [
    {
     "name": "stdout",
     "output_type": "stream",
     "text": [
      "Logistic Regression for Categorical Data (using all samples)\n",
      "Recognition Rates =  0.8378378378378378\n",
      "Intercept is  -0.13059084398685086\n",
      "Coeffs are\n",
      "-0.35683728818659255\n",
      "0.22624644419974213\n",
      "-0.4292785246702519\n",
      "0.18714686125354854\n",
      "-0.013799524316429695\n",
      "0.316995979827919\n",
      "-0.191655636081636\n",
      "0.28720457438476305\n",
      "-0.35009372430298663\n",
      "-0.536955797232684\n",
      "0.6404724600508942\n",
      "-0.17121835688683634\n",
      "0.3597754141441304\n",
      "-0.6454191266165621\n",
      "0.06822207121861534\n",
      "0.0868307972669669\n",
      "0.8351127200403253\n",
      "-0.46665394754997763\n",
      "-0.13259672895755237\n",
      "-0.36645288751964505\n",
      "-0.22965905299203287\n",
      "0.09906820900518278\n",
      "-0.11715291132801368\n",
      "-0.013437932658836426\n",
      "0.24838611502700347\n",
      "-0.22473146196137578\n",
      "-0.15424549705247775\n",
      "0.079237957285792\n",
      "-0.2098288012726418\n",
      "0.046304277447580956\n",
      "-0.1768951214344311\n",
      "-0.14352086746351306\n",
      "0.253369807319961\n",
      "-0.2404397838432979\n",
      "-0.5079702295012716\n",
      "0.03718472743858047\n",
      "0.34019465807584104\n",
      "0.1630881413003899\n",
      "-0.2936789852872403\n",
      "0.046304277447580956\n",
      "-0.1768951214344311\n",
      "-0.11221537617409202\n",
      "-0.19195334233310554\n",
      "-0.3854742019781802\n",
      "0.584621432734695\n",
      "-0.025569356236166855\n",
      "-0.44862957717992435\n",
      "0.31803873319307385\n",
      "-0.5032808564412162\n",
      "0.3726900124543661\n",
      "-0.26827976333520065\n",
      "0.13768891934835062\n"
     ]
    },
    {
     "name": "stderr",
     "output_type": "stream",
     "text": [
      "/home/kurita/anaconda3/lib/python3.7/site-packages/sklearn/linear_model/logistic.py:433: FutureWarning: Default solver will be changed to 'lbfgs' in 0.22. Specify a solver to silence this warning.\n",
      "  FutureWarning)\n"
     ]
    },
    {
     "data": {
      "image/png": "[encoded data removed]",
      "text/plain": [
       "<Figure size 432x288 with 1 Axes>"
      ]
     },
     "metadata": {
      "needs_background": "light"
     },
     "output_type": "display_data"
    }
   ],
   "source": [
    "# logistic regression for chirality with waseda data\n",
    "logreg = linear_model.LogisticRegression()\n",
    "\n",
    "logreg.fit(X, y)\n",
    "\n",
    "pred = logreg.predict(X)\n",
    "\n",
    "#print('pred=', pred)\n",
    "\n",
    "score = logreg.score(X, y)\n",
    "\n",
    "print('Logistic Regression for Categorical Data (using all samples)')\n",
    "print('Recognition Rates = ', score)\n",
    "\n",
    "coeffs = logreg.coef_[0]\n",
    "intercept = logreg.intercept_[0]\n",
    "\n",
    "#print('Coeffs is ', coeffs)\n",
    "print('Intercept is ', intercept)\n",
    "print('Coeffs are')\n",
    "for i in range(0, len(coeffs)):\n",
    "    print(coeffs[i])\n",
    "\n",
    "ix = range(0, len(coeffs))\n",
    "plt.bar(ix, coeffs, tick_label=xlabels)\n",
    "plt.title(\"classification of chirality with waseda data\")\n",
    "plt.savefig('AI_waseda_asahi-Pro_new_v4.png')\n",
    "plt.show()\n"
   ]
  },
  {
   "cell_type": "code",
   "execution_count": 104,
   "metadata": {},
   "outputs": [
    {
     "name": "stderr",
     "output_type": "stream",
     "text": [
      "/home/kurita/anaconda3/lib/python3.7/site-packages/sklearn/linear_model/logistic.py:433: FutureWarning: Default solver will be changed to 'lbfgs' in 0.22. Specify a solver to silence this warning.\n",
      "  FutureWarning)\n"
     ]
    },
    {
     "name": "stdout",
     "output_type": "stream",
     "text": [
      "Logistic Regression for Categorical Data (using all samples)\n",
      "Recognition Rates =  0.9459459459459459\n",
      "Intercept is  0.0\n",
      "Coeffs are\n",
      "-2.70024721345643\n",
      "0.0\n",
      "-2.3656980680860755\n",
      "0.3618122583362745\n",
      "0.0\n",
      "1.8436459778816945\n",
      "0.0\n",
      "0.0\n",
      "-0.4962102261973276\n",
      "0.0\n",
      "4.042194095775114\n",
      "0.0\n",
      "2.45367232711702\n",
      "-3.063561876800801\n",
      "0.0\n",
      "0.0\n",
      "4.977598157268901\n",
      "0.0\n",
      "0.0\n",
      "0.0\n",
      "-0.8283825036556575\n",
      "0.0\n",
      "0.0\n",
      "0.0\n",
      "1.0897946574367303\n",
      "0.0\n",
      "0.0\n",
      "0.0\n",
      "0.0\n",
      "0.0\n",
      "0.0\n",
      "0.0\n",
      "2.145142700719295\n",
      "0.0\n",
      "-1.7610789788804608\n",
      "0.0\n",
      "0.0\n",
      "0.0\n",
      "-1.1347772687046416\n",
      "0.0\n",
      "0.0\n",
      "-0.534118361828419\n",
      "0.0\n",
      "0.0\n",
      "5.104234433500096\n",
      "0.0\n",
      "-1.6466184356110234\n",
      "0.1335889082042982\n",
      "-2.050211823790485\n",
      "1.4894128533480893\n",
      "-1.7132609485681678\n",
      "0.0\n"
     ]
    },
    {
     "data": {
      "image/png": "[encoded data removed]",
      "text/plain": [
       "<Figure size 432x288 with 1 Axes>"
      ]
     },
     "metadata": {
      "needs_background": "light"
     },
     "output_type": "display_data"
    }
   ],
   "source": [
    "# logistic regression for chirality with waseda data\n",
    "logreg = linear_model.LogisticRegression(penalty='l1', C=10.0)\n",
    "\n",
    "logreg.fit(X, y)\n",
    "\n",
    "pred = logreg.predict(X)\n",
    "\n",
    "#print('pred=', pred)\n",
    "\n",
    "score = logreg.score(X, y)\n",
    "\n",
    "print('Logistic Regression for Categorical Data (using all samples)')\n",
    "print('Recognition Rates = ', score)\n",
    "\n",
    "coeffs = logreg.coef_[0]\n",
    "intercept = logreg.intercept_[0]\n",
    "\n",
    "#print('Coeffs is ', coeffs)\n",
    "print('Intercept is ', intercept)\n",
    "print('Coeffs are')\n",
    "for i in range(0, len(coeffs)):\n",
    "    print(coeffs[i])\n",
    "\n",
    "ix = range(0, len(coeffs))\n",
    "plt.bar(ix, coeffs, tick_label=xlabels)\n",
    "plt.title(\"classification of chirality with waseda data\")\n",
    "plt.savefig('AI_waseda_asahi-Pro_new_v4_L1.png')\n",
    "plt.show()"
   ]
  },
  {
   "cell_type": "code",
   "execution_count": null,
   "metadata": {},
   "outputs": [],
   "source": []
  }
 ],
 "metadata": {
  "kernelspec": {
   "display_name": "Python 3",
   "language": "python",
   "name": "python3"
  },
  "language_info": {
   "codemirror_mode": {
    "name": "ipython",
    "version": 3
   },
   "file_extension": ".py",
   "mimetype": "text/x-python",
   "name": "python",
   "nbconvert_exporter": "python",
   "pygments_lexer": "ipython3",
   "version": "3.7.3"
  }
 },
 "nbformat": 4,
 "nbformat_minor": 2
}
